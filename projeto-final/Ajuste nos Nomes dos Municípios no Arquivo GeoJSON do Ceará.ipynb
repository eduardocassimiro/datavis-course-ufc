{
 "cells": [
  {
   "cell_type": "markdown",
   "id": "929c66d5",
   "metadata": {},
   "source": [
    "# Ajuste nos Nomes dos Municípios no Arquivo GeoJSON do Ceará\n",
    "\n",
    "#### Carlos Eduardo Cassimiro da Silva\n",
    "\n",
    "Pré-processamento para ajustar os nomes dos municípios do arquivo geojson do Ceará. Os conjuntos de dados utilizados para o trabalho de visualização serão conectados pelos nomes dos municípios, então ajustaremos todos os campos para que estejam em caixa alta e sem acento para evitar problemas desse aspecto.\n",
    "\n",
    "Link do dataset: https://raw.githubusercontent.com/tbrugz/geodata-br/master/geojson/geojs-23-mun.json"
   ]
  },
  {
   "cell_type": "code",
   "execution_count": 1,
   "id": "dabd92e1",
   "metadata": {},
   "outputs": [],
   "source": [
    "import json\n",
    "import pandas as pd\n",
    "#pip install unidecode\n",
    "from unidecode import unidecode"
   ]
  },
  {
   "cell_type": "code",
   "execution_count": 2,
   "id": "dadf6d4e",
   "metadata": {},
   "outputs": [],
   "source": [
    "with open('arquivos/ceara.geojson', encoding='utf-8') as meu_json: # Abrindo o arquivo geoJSON\n",
    "    dados = json.load(meu_json)"
   ]
  },
  {
   "cell_type": "code",
   "execution_count": 3,
   "id": "896ebe8b",
   "metadata": {},
   "outputs": [
    {
     "data": {
      "text/plain": [
       "'Abaiara'"
      ]
     },
     "execution_count": 3,
     "metadata": {},
     "output_type": "execute_result"
    }
   ],
   "source": [
    "dados['features'][0]['properties']['name'] # \"caminho\" para os nomes do municípios"
   ]
  },
  {
   "cell_type": "code",
   "execution_count": 4,
   "id": "b8849880",
   "metadata": {},
   "outputs": [],
   "source": [
    "for i in range(len(dados['features'])): # Laço para atualizar os nomes em caixa alta e sem acentos\n",
    "    dados['features'][i]['properties']['name'] = unidecode(dados['features'][i]['properties']['name'].upper())"
   ]
  },
  {
   "cell_type": "code",
   "execution_count": 6,
   "id": "e9f99e31",
   "metadata": {},
   "outputs": [
    {
     "data": {
      "text/plain": [
       "'ABAIARA'"
      ]
     },
     "execution_count": 6,
     "metadata": {},
     "output_type": "execute_result"
    }
   ],
   "source": [
    "dados['features'][0]['properties']['name'] # Verificando o nome atualizado"
   ]
  },
  {
   "cell_type": "code",
   "execution_count": 5,
   "id": "154eeee8",
   "metadata": {},
   "outputs": [],
   "source": [
    "with open('arquivos/ceara_prepross.geojson', 'w') as outfile: # Salvando os dados em formato geoJSON em um arquivo\n",
    "    json.dump(dados, outfile)"
   ]
  },
  {
   "cell_type": "code",
   "execution_count": 8,
   "id": "aed53e7c",
   "metadata": {},
   "outputs": [
    {
     "data": {
      "text/plain": [
       "184"
      ]
     },
     "execution_count": 8,
     "metadata": {},
     "output_type": "execute_result"
    }
   ],
   "source": [
    "len(dados['features']) # Verificando o número de estados"
   ]
  }
 ],
 "metadata": {
  "kernelspec": {
   "display_name": "Python 3",
   "language": "python",
   "name": "python3"
  },
  "language_info": {
   "codemirror_mode": {
    "name": "ipython",
    "version": 3
   },
   "file_extension": ".py",
   "mimetype": "text/x-python",
   "name": "python",
   "nbconvert_exporter": "python",
   "pygments_lexer": "ipython3",
   "version": "3.8.8"
  }
 },
 "nbformat": 4,
 "nbformat_minor": 5
}
