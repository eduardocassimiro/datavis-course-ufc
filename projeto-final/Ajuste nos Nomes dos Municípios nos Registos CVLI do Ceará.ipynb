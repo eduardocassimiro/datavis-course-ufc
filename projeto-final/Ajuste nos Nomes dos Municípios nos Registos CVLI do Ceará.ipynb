{
 "cells": [
  {
   "cell_type": "markdown",
   "id": "60a7a121",
   "metadata": {},
   "source": [
    "# Ajuste nos Nomes dos Municípios nos Registos CVLI do Ceará\n",
    "\n",
    "#### Carlos Eduardo Cassimiro da Silva\n",
    "\n",
    "Pré-processamento para ajustar os nomes dos municípios nos registros CVLI do Ceará. Os conjuntos de dados utilizados para o trabalho de visualização serão conectados pelos nomes dos municípios, então ajustaremos todos os campos para que estejam em caixa alta e sem acento para evitar problemas desse aspecto. <br>\n",
    "O referido dataset passou por um pré-processamento manual onde alguns nomes foram trocados e outros adicionados pra se ajustarem ao dos outros datasets, não é exatamente o mesmo da raspagem de dados dos pdf do outro notebook."
   ]
  },
  {
   "cell_type": "code",
   "execution_count": 1,
   "id": "8f134249",
   "metadata": {},
   "outputs": [],
   "source": [
    "import pandas as pd\n",
    "from unidecode import unidecode"
   ]
  },
  {
   "cell_type": "code",
   "execution_count": 2,
   "id": "8f39aaaf",
   "metadata": {},
   "outputs": [],
   "source": [
    "cvli = pd.read_csv('arquivos/cvli_fortaleza_2019_mod.csv', sep=',', encoding='ISO-8859-1') # Lendo os dados do CVLI"
   ]
  },
  {
   "cell_type": "code",
   "execution_count": 3,
   "id": "b8379de1",
   "metadata": {},
   "outputs": [
    {
     "data": {
      "text/html": [
       "<div>\n",
       "<style scoped>\n",
       "    .dataframe tbody tr th:only-of-type {\n",
       "        vertical-align: middle;\n",
       "    }\n",
       "\n",
       "    .dataframe tbody tr th {\n",
       "        vertical-align: top;\n",
       "    }\n",
       "\n",
       "    .dataframe thead th {\n",
       "        text-align: right;\n",
       "    }\n",
       "</style>\n",
       "<table border=\"1\" class=\"dataframe\">\n",
       "  <thead>\n",
       "    <tr style=\"text-align: right;\">\n",
       "      <th></th>\n",
       "      <th>MUNICIPIO</th>\n",
       "      <th>QTD_CVLI</th>\n",
       "    </tr>\n",
       "  </thead>\n",
       "  <tbody>\n",
       "    <tr>\n",
       "      <th>0</th>\n",
       "      <td>Abaiara</td>\n",
       "      <td>0</td>\n",
       "    </tr>\n",
       "    <tr>\n",
       "      <th>1</th>\n",
       "      <td>Acarape</td>\n",
       "      <td>6</td>\n",
       "    </tr>\n",
       "    <tr>\n",
       "      <th>2</th>\n",
       "      <td>Acaraú</td>\n",
       "      <td>8</td>\n",
       "    </tr>\n",
       "    <tr>\n",
       "      <th>3</th>\n",
       "      <td>Acopiara</td>\n",
       "      <td>14</td>\n",
       "    </tr>\n",
       "    <tr>\n",
       "      <th>4</th>\n",
       "      <td>Aiuaba</td>\n",
       "      <td>1</td>\n",
       "    </tr>\n",
       "    <tr>\n",
       "      <th>...</th>\n",
       "      <td>...</td>\n",
       "      <td>...</td>\n",
       "    </tr>\n",
       "    <tr>\n",
       "      <th>179</th>\n",
       "      <td>Uruburetama</td>\n",
       "      <td>5</td>\n",
       "    </tr>\n",
       "    <tr>\n",
       "      <th>180</th>\n",
       "      <td>Uruoca</td>\n",
       "      <td>2</td>\n",
       "    </tr>\n",
       "    <tr>\n",
       "      <th>181</th>\n",
       "      <td>Varjota</td>\n",
       "      <td>3</td>\n",
       "    </tr>\n",
       "    <tr>\n",
       "      <th>182</th>\n",
       "      <td>Várzea Alegre</td>\n",
       "      <td>2</td>\n",
       "    </tr>\n",
       "    <tr>\n",
       "      <th>183</th>\n",
       "      <td>Viçosa do Ceará</td>\n",
       "      <td>3</td>\n",
       "    </tr>\n",
       "  </tbody>\n",
       "</table>\n",
       "<p>184 rows × 2 columns</p>\n",
       "</div>"
      ],
      "text/plain": [
       "           MUNICIPIO  QTD_CVLI\n",
       "0            Abaiara         0\n",
       "1            Acarape         6\n",
       "2             Acaraú         8\n",
       "3           Acopiara        14\n",
       "4             Aiuaba         1\n",
       "..               ...       ...\n",
       "179      Uruburetama         5\n",
       "180           Uruoca         2\n",
       "181          Varjota         3\n",
       "182    Várzea Alegre         2\n",
       "183  Viçosa do Ceará         3\n",
       "\n",
       "[184 rows x 2 columns]"
      ]
     },
     "execution_count": 3,
     "metadata": {},
     "output_type": "execute_result"
    }
   ],
   "source": [
    "cvli # Verificando a forma dos nomes"
   ]
  },
  {
   "cell_type": "code",
   "execution_count": 4,
   "id": "89092ee4",
   "metadata": {},
   "outputs": [],
   "source": [
    "def upper2(x): # Definando um função upper sem que precise ser invocada por um objeto para se adequar ao apply do dataframe\n",
    "    return x.upper()"
   ]
  },
  {
   "cell_type": "code",
   "execution_count": 5,
   "id": "35adf267",
   "metadata": {},
   "outputs": [],
   "source": [
    "cvli['MUNICIPIO'] = cvli['MUNICIPIO'].apply(upper2) # Deixando todos os nomes em caixa alta\n",
    "cvli['MUNICIPIO'] = cvli['MUNICIPIO'].apply(unidecode) # Tirando os acentos dos nomes"
   ]
  },
  {
   "cell_type": "code",
   "execution_count": 6,
   "id": "6ccc88a5",
   "metadata": {},
   "outputs": [
    {
     "data": {
      "text/html": [
       "<div>\n",
       "<style scoped>\n",
       "    .dataframe tbody tr th:only-of-type {\n",
       "        vertical-align: middle;\n",
       "    }\n",
       "\n",
       "    .dataframe tbody tr th {\n",
       "        vertical-align: top;\n",
       "    }\n",
       "\n",
       "    .dataframe thead th {\n",
       "        text-align: right;\n",
       "    }\n",
       "</style>\n",
       "<table border=\"1\" class=\"dataframe\">\n",
       "  <thead>\n",
       "    <tr style=\"text-align: right;\">\n",
       "      <th></th>\n",
       "      <th>MUNICIPIO</th>\n",
       "      <th>QTD_CVLI</th>\n",
       "    </tr>\n",
       "  </thead>\n",
       "  <tbody>\n",
       "    <tr>\n",
       "      <th>0</th>\n",
       "      <td>ABAIARA</td>\n",
       "      <td>0</td>\n",
       "    </tr>\n",
       "    <tr>\n",
       "      <th>1</th>\n",
       "      <td>ACARAPE</td>\n",
       "      <td>6</td>\n",
       "    </tr>\n",
       "    <tr>\n",
       "      <th>2</th>\n",
       "      <td>ACARAU</td>\n",
       "      <td>8</td>\n",
       "    </tr>\n",
       "    <tr>\n",
       "      <th>3</th>\n",
       "      <td>ACOPIARA</td>\n",
       "      <td>14</td>\n",
       "    </tr>\n",
       "    <tr>\n",
       "      <th>4</th>\n",
       "      <td>AIUABA</td>\n",
       "      <td>1</td>\n",
       "    </tr>\n",
       "    <tr>\n",
       "      <th>...</th>\n",
       "      <td>...</td>\n",
       "      <td>...</td>\n",
       "    </tr>\n",
       "    <tr>\n",
       "      <th>179</th>\n",
       "      <td>URUBURETAMA</td>\n",
       "      <td>5</td>\n",
       "    </tr>\n",
       "    <tr>\n",
       "      <th>180</th>\n",
       "      <td>URUOCA</td>\n",
       "      <td>2</td>\n",
       "    </tr>\n",
       "    <tr>\n",
       "      <th>181</th>\n",
       "      <td>VARJOTA</td>\n",
       "      <td>3</td>\n",
       "    </tr>\n",
       "    <tr>\n",
       "      <th>182</th>\n",
       "      <td>VARZEA ALEGRE</td>\n",
       "      <td>2</td>\n",
       "    </tr>\n",
       "    <tr>\n",
       "      <th>183</th>\n",
       "      <td>VICOSA DO CEARA</td>\n",
       "      <td>3</td>\n",
       "    </tr>\n",
       "  </tbody>\n",
       "</table>\n",
       "<p>184 rows × 2 columns</p>\n",
       "</div>"
      ],
      "text/plain": [
       "           MUNICIPIO  QTD_CVLI\n",
       "0            ABAIARA         0\n",
       "1            ACARAPE         6\n",
       "2             ACARAU         8\n",
       "3           ACOPIARA        14\n",
       "4             AIUABA         1\n",
       "..               ...       ...\n",
       "179      URUBURETAMA         5\n",
       "180           URUOCA         2\n",
       "181          VARJOTA         3\n",
       "182    VARZEA ALEGRE         2\n",
       "183  VICOSA DO CEARA         3\n",
       "\n",
       "[184 rows x 2 columns]"
      ]
     },
     "execution_count": 6,
     "metadata": {},
     "output_type": "execute_result"
    }
   ],
   "source": [
    "cvli # Verficando o resultado final"
   ]
  },
  {
   "cell_type": "code",
   "execution_count": 10,
   "id": "482845f8",
   "metadata": {},
   "outputs": [],
   "source": [
    "cvli.to_csv('arquivos/cvli_fortaleza_2019_att.csv', encoding='ISO-8859-1', index=False) # salva o dataframe em csv"
   ]
  }
 ],
 "metadata": {
  "kernelspec": {
   "display_name": "Python 3",
   "language": "python",
   "name": "python3"
  },
  "language_info": {
   "codemirror_mode": {
    "name": "ipython",
    "version": 3
   },
   "file_extension": ".py",
   "mimetype": "text/x-python",
   "name": "python",
   "nbconvert_exporter": "python",
   "pygments_lexer": "ipython3",
   "version": "3.8.8"
  }
 },
 "nbformat": 4,
 "nbformat_minor": 5
}
