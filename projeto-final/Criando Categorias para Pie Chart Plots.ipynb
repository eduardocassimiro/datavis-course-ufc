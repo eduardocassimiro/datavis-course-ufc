{
 "cells": [
  {
   "cell_type": "markdown",
   "id": "6d6e0e6d",
   "metadata": {},
   "source": [
    "# Criando Categorias para Pie Chart Plots\n",
    "\n",
    "#### Carlos Eduardo Cassimiro da Silva\n",
    "\n",
    "Os gráficos de pizza represetam a porpoção da contagem dos elementos de uma classe em relação a outra, dessa maneira, para facilitar o trabalho de gerar esse gráficos, faz-se necessário um pré-processamento que já identificar as labels de uma classe no próprio conjunto de dados, já que temos somente a referência de um valor número."
   ]
  },
  {
   "cell_type": "code",
   "execution_count": 1,
   "id": "aba9730f",
   "metadata": {},
   "outputs": [],
   "source": [
    "import json"
   ]
  },
  {
   "cell_type": "code",
   "execution_count": 2,
   "id": "45572d05",
   "metadata": {},
   "outputs": [],
   "source": [
    "# Abrindo o arquivo JSON para ser ajustado\n",
    "with open('arquivos/data_final2.geojson', encoding='utf-8') as meu_json:\n",
    "    data_final2 = json.load(meu_json)"
   ]
  },
  {
   "cell_type": "code",
   "execution_count": 7,
   "id": "f92c745d",
   "metadata": {},
   "outputs": [],
   "source": [
    "# Aproveitei o mesmo laço para criar as categorias tanto do ideb quanto o cvli\n",
    "for i in range(len(data_final2['features'])):\n",
    "    ideb = data_final2['features'][i]['properties']['ideb']\n",
    "    if ideb < 4.3:\n",
    "        data_final2['features'][i]['properties']['classe_ideb'] = '3.5 - 4.29'\n",
    "    elif ideb >= 4.3 and ideb < 5:\n",
    "        data_final2['features'][i]['properties']['classe_ideb'] = '4.3 - 4.99'\n",
    "    elif ideb >= 5 and ideb < 5.8 :\n",
    "        data_final2['features'][i]['properties']['classe_ideb'] = '5.0 - 5.79'\n",
    "    elif ideb >= 5.8 and ideb < 6.5 :\n",
    "        data_final2['features'][i]['properties']['classe_ideb'] = '5.8 - 6.49'\n",
    "    elif ideb >= 6.5 and ideb < 7.3 :\n",
    "        data_final2['features'][i]['properties']['classe_ideb'] = '6.5 - 7.29'\n",
    "    elif ideb >= 7.3 and ideb < 8:\n",
    "        data_final2['features'][i]['properties']['classe_ideb'] = '7.3 - 7.99'\n",
    "    elif ideb >= 8 and ideb < 8.8:\n",
    "        data_final2['features'][i]['properties']['classe_ideb'] = '8.0 - 8.79'\n",
    "    else:\n",
    "        data_final2['features'][i]['properties']['classe_ideb'] = '8.8 - 9.5'\n",
    "    \n",
    "    taxa_cvli = data_final2['features'][i]['properties']['cvli_pop']\n",
    "    if taxa_cvli < 1.3:\n",
    "        data_final2['features'][i]['properties']['classe_cvli'] = '0 - 1.29'\n",
    "    elif taxa_cvli >= 1.3 and taxa_cvli < 2.49 :\n",
    "        data_final2['features'][i]['properties']['classe_cvli'] = '1.3 - 2.49'\n",
    "    elif taxa_cvli >= 2.5 and taxa_cvli < 3.79 :\n",
    "        data_final2['features'][i]['properties']['classe_cvli'] = '2.5 - 2.79'\n",
    "    elif taxa_cvli >= 3.8 and taxa_cvli < 4.99 :\n",
    "        data_final2['features'][i]['properties']['classe_cvli'] = '3.8 - 4.99'\n",
    "    elif taxa_cvli >= 5.0 and taxa_cvli < 6.29 :\n",
    "        data_final2['features'][i]['properties']['classe_cvli'] = '5.0 - 6.29'\n",
    "    elif taxa_cvli >= 6.3 and taxa_cvli < 7.49 :\n",
    "        data_final2['features'][i]['properties']['classe_cvli'] = '6.3 - 7.49'\n",
    "    elif taxa_cvli >= 7.5 and taxa_cvli < 8.79 :\n",
    "        data_final2['features'][i]['properties']['classe_cvli'] = '7.5 - 8.79'\n",
    "    elif taxa_cvli >= 8.8:\n",
    "        data_final2['features'][i]['properties']['classe_cvli'] = '>= 8.8'"
   ]
  },
  {
   "cell_type": "code",
   "execution_count": 8,
   "id": "cdaa1910",
   "metadata": {},
   "outputs": [],
   "source": [
    "# Salvando o arquivo JSON com as labels\n",
    "with open('arquivos/data_final2.geojson', 'w') as outfile: # Salvando os dados em formato geoJSON em um arquivo\n",
    "    json.dump(data_final2, outfile)"
   ]
  }
 ],
 "metadata": {
  "kernelspec": {
   "display_name": "Python 3",
   "language": "python",
   "name": "python3"
  },
  "language_info": {
   "codemirror_mode": {
    "name": "ipython",
    "version": 3
   },
   "file_extension": ".py",
   "mimetype": "text/x-python",
   "name": "python",
   "nbconvert_exporter": "python",
   "pygments_lexer": "ipython3",
   "version": "3.8.8"
  }
 },
 "nbformat": 4,
 "nbformat_minor": 5
}
