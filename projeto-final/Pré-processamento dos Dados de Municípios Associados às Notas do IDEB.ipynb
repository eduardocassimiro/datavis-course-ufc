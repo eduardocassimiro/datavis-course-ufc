{
 "cells": [
  {
   "cell_type": "markdown",
   "id": "dcf0c0ad",
   "metadata": {},
   "source": [
    "# Pré-processamento dos Dados de Municípios Associados às Notas do IDEB\n",
    "\n",
    "#### Carlos Eduardo Cassimiro da Silva\n",
    "\n",
    "Pré-processamento para associar os dados das notas do IDEB de 2019 por município aos respectivos municípios associados com os dados de latitude e longitude dos mesmos para visualizações em mapas, além de ajustar os nomes dos municípios para o mesmo formato de outro dataset geojson. O arquivo do IDEB já veio de um pré-processamento manual da sua planilha original.\n",
    "\n",
    "Dataset IDEB 2019: https://www.gov.br/inep/pt-br/areas-de-atuacao/pesquisas-estatisticas-e-indicadores/ideb/resultados <br>\n",
    "Dataset dos Municípios: https://github.com/kelvins/Municipios-Brasileiros"
   ]
  },
  {
   "cell_type": "markdown",
   "id": "492a3964",
   "metadata": {},
   "source": [
    "pip install unidecode"
   ]
  },
  {
   "cell_type": "markdown",
   "id": "ee8bf300",
   "metadata": {},
   "source": [
    "##### Módulos utilizados"
   ]
  },
  {
   "cell_type": "code",
   "execution_count": 1,
   "id": "1010a352",
   "metadata": {},
   "outputs": [],
   "source": [
    "import pandas as pd\n",
    "from unidecode import unidecode"
   ]
  },
  {
   "cell_type": "markdown",
   "id": "a4cf13c8",
   "metadata": {},
   "source": [
    "##### Script"
   ]
  },
  {
   "cell_type": "code",
   "execution_count": 2,
   "id": "ce51c422",
   "metadata": {},
   "outputs": [],
   "source": [
    "ideb = pd.read_csv('arquivos/ideb_2019.csv', sep=';', na_values='-') # Lendo os dados do IDEB"
   ]
  },
  {
   "cell_type": "code",
   "execution_count": 3,
   "id": "657034b8",
   "metadata": {},
   "outputs": [],
   "source": [
    "ideb = ideb.dropna() # Excluindo os dados faltantes"
   ]
  },
  {
   "cell_type": "code",
   "execution_count": 4,
   "id": "125b171d",
   "metadata": {},
   "outputs": [],
   "source": [
    "# Filtrando somentre as notas da rede pública\n",
    "cod_notas = ideb.filter(items=['UF','COD_MUNIC','NOTA_IDEB']).where(ideb.REDE=='Pública') \n",
    "cod_notas = cod_notas.dropna() # Excluindo as linhas que não corresponderam com o resultado da filtragem"
   ]
  },
  {
   "cell_type": "code",
   "execution_count": 18,
   "id": "408af8cf",
   "metadata": {},
   "outputs": [],
   "source": [
    "# lendo os dados dos municípios\n",
    "municipios = pd.read_csv('arquivos/municipios.csv', usecols=['codigo_ibge','latitude','longitude','nome'])  "
   ]
  },
  {
   "cell_type": "code",
   "execution_count": 24,
   "id": "0acd4431",
   "metadata": {},
   "outputs": [],
   "source": [
    "# Jutando os dois dataframes a partir dos códigos dos municípios\n",
    "ideb_municipios = pd.merge(municipios,cod_notas, \n",
    "                           how='left', left_on=['codigo_ibge'], \n",
    "                           right_on=['COD_MUNIC'])"
   ]
  },
  {
   "cell_type": "code",
   "execution_count": 25,
   "id": "7af03531",
   "metadata": {},
   "outputs": [],
   "source": [
    "# Ajustando o formtado das notas de string para float\n",
    "ideb_municipios['NOTA_IDEB'] = ideb_municipios['NOTA_IDEB'].str.replace(',','.')\n",
    "ideb_municipios['NOTA_IDEB'] = ideb_municipios['NOTA_IDEB'].astype('float')"
   ]
  },
  {
   "cell_type": "code",
   "execution_count": 32,
   "id": "dce9da2e",
   "metadata": {},
   "outputs": [],
   "source": [
    "# Filtrando somente os municípios do Ceará\n",
    "ideb_municipios = ideb_municipios.filter(items=['codigo_ibge', 'nome', 'latitude', 'longitude', 'UF', 'COD_MUNIC', 'NOTA_IDEB']).where(ideb_municipios.UF=='CE')\n",
    "ideb_municipios = ideb_municipios.dropna()"
   ]
  },
  {
   "cell_type": "code",
   "execution_count": 45,
   "id": "0f351bcb",
   "metadata": {},
   "outputs": [],
   "source": [
    "def upper2(x): # Definando um função upper sem que precise ser invocada por um objeto para se adequar ao apply do dataframe\n",
    "    return x.upper()"
   ]
  },
  {
   "cell_type": "code",
   "execution_count": 47,
   "id": "f5c59580",
   "metadata": {},
   "outputs": [
    {
     "data": {
      "text/plain": [
       "5               ABAIARA\n",
       "19              ACARAPE\n",
       "20               ACARAU\n",
       "24             ACOPIARA\n",
       "83               AIUABA\n",
       "             ...       \n",
       "5398        URUBURETAMA\n",
       "5406             URUOCA\n",
       "5443            VARJOTA\n",
       "5447      VARZEA ALEGRE\n",
       "5496    VICOSA DO CEARA\n",
       "Name: nome, Length: 184, dtype: object"
      ]
     },
     "execution_count": 47,
     "metadata": {},
     "output_type": "execute_result"
    }
   ],
   "source": [
    "ideb_municipios['nome'] = ideb_municipios['nome'].apply(upper2) # Deixando todos os nomes em caixa alta\n",
    "ideb_municipios['nome'] = ideb_municipios['nome'].apply(unidecode) # Tirando os acentos dos nomes\n",
    "ideb_municipios['nome'] # verificando o resultado"
   ]
  },
  {
   "cell_type": "code",
   "execution_count": 48,
   "id": "34fff724",
   "metadata": {},
   "outputs": [],
   "source": [
    "ideb_municipios.to_csv('arquivos/ideb_municipios.csv', encoding='ISO-8859-1', index=False) # salvando em .csv"
   ]
  },
  {
   "cell_type": "code",
   "execution_count": null,
   "id": "b121491a",
   "metadata": {},
   "outputs": [],
   "source": []
  }
 ],
 "metadata": {
  "kernelspec": {
   "display_name": "Python 3",
   "language": "python",
   "name": "python3"
  },
  "language_info": {
   "codemirror_mode": {
    "name": "ipython",
    "version": 3
   },
   "file_extension": ".py",
   "mimetype": "text/x-python",
   "name": "python",
   "nbconvert_exporter": "python",
   "pygments_lexer": "ipython3",
   "version": "3.8.8"
  }
 },
 "nbformat": 4,
 "nbformat_minor": 5
}
