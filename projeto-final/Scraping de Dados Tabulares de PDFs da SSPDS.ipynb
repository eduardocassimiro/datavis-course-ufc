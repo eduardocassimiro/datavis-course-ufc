{
 "cells": [
  {
   "cell_type": "markdown",
   "id": "c797eb3a",
   "metadata": {},
   "source": [
    "# Scraping de Dados Tabulares de PDFs da SSPDS\n",
    "\n",
    "#### Carlos Eduardo Cassimiro da Silva"
   ]
  },
  {
   "cell_type": "markdown",
   "id": "8dd2cc68",
   "metadata": {},
   "source": [
    "Scraping de dados para a realização das visualizações do projeto final da cadeira de Visualização de Dados 2021.2. A SSPDS do Ceará fornece o registro dos crimes violentos por mês, entretanto, forcene em PDFs. Então, faz-se necessário criar um script para que possa puxar os dados de todos os meses de 2019 e prepara-los em um DataFrame Pandas para em seguida exportarmos em formato csv. \n",
    "<br>\n",
    "Link para os PDFs: https://www.sspds.ce.gov.br/estatisticas-2019/"
   ]
  },
  {
   "cell_type": "markdown",
   "id": "19563e0f",
   "metadata": {},
   "source": [
    "##### Módulos utilizados"
   ]
  },
  {
   "cell_type": "markdown",
   "id": "d75ecc0c",
   "metadata": {},
   "source": [
    "pip install tabula-py\n",
    "pip install PyPDF2"
   ]
  },
  {
   "cell_type": "code",
   "execution_count": 96,
   "id": "30ef4b4a",
   "metadata": {},
   "outputs": [],
   "source": [
    "import pandas as pd\n",
    "from PyPDF2 import PdfFileReader\n",
    "import tabula"
   ]
  },
  {
   "cell_type": "markdown",
   "id": "1abe4f83",
   "metadata": {},
   "source": [
    "## Script"
   ]
  },
  {
   "cell_type": "code",
   "execution_count": 102,
   "id": "a2e9f86b",
   "metadata": {},
   "outputs": [],
   "source": [
    "table_total = [] # lista para guardar o dataframe de cada mês\n",
    "for k in range(1,13): # Como um ano tem 12 meses, vamos iterar de 1 a 12 para acessar os arquivos\n",
    "    pdf = PdfFileReader(open('arquivos/data'+str(k)+'.pdf','rb')) # PyPDF2 é utilizado para obter a qtd de páginas\n",
    "    n_pgs = pdf.getNumPages() # Puxa a quantidade de páginas do pdf\n",
    "    \n",
    "    list_pgs = list(range(1, n_pgs+1)) # lista de indexes das paginas que serãp acessadas\n",
    "    table = tabula.read_pdf('arquivos/data'+str(k)+'.pdf', pages=list_pgs) # Puxa os dados tabulares das oáginas em formato dataframe\n",
    "    \n",
    "    for i in range(0, n_pgs): # Laço para automatizar o preprocessamento\n",
    "        table[i] = table[i].rename({'Unnamed: 2':'MUNICIPIO', 'Unnamed: 3':'NATUREZA'}, axis=1) # Renomia as colunas que usaremos\n",
    "        table[i] = table[i].drop(['Unnamed: 0', 'Unnamed: 1', 'Unnamed: 4','Unnamed: 5', 'Unnamed: 6', 'GUIA-', 'Unnamed: 7', 'Unnamed: 8', 'Unnamed: 9'], axis=1)\n",
    "        table[i] = table[i].drop([0,1]) # Excluí as duas primeiras linhas de erro de formtação\n",
    "        table[i] = table[i].fillna({'NATUREZA':'NAO REGISTRADA'}) # Preenche os dados faltantes de 'NATUREZA'\n",
    "        table[i] = table[i].dropna() # Excluí as linhas de dados faltantes de erro na formatação\n",
    "        \n",
    "    table_total.append(pd.concat(table)) # Junta todos os dataframes de cada páginas do arquivos e adiciona em uma lista"
   ]
  },
  {
   "cell_type": "code",
   "execution_count": 105,
   "id": "45b56628",
   "metadata": {},
   "outputs": [],
   "source": [
    "data = pd.concat(table_total) # Junta todos os dataframes de todos os meses\n",
    "data = data.groupby(['MUNICIPIO']).size().reset_index(name='QTD_CVLI') # Faz a contagem do número total de crimes violentos em 2019"
   ]
  },
  {
   "cell_type": "code",
   "execution_count": 106,
   "id": "eec3cbfc",
   "metadata": {},
   "outputs": [
    {
     "data": {
      "text/html": [
       "<div>\n",
       "<style scoped>\n",
       "    .dataframe tbody tr th:only-of-type {\n",
       "        vertical-align: middle;\n",
       "    }\n",
       "\n",
       "    .dataframe tbody tr th {\n",
       "        vertical-align: top;\n",
       "    }\n",
       "\n",
       "    .dataframe thead th {\n",
       "        text-align: right;\n",
       "    }\n",
       "</style>\n",
       "<table border=\"1\" class=\"dataframe\">\n",
       "  <thead>\n",
       "    <tr style=\"text-align: right;\">\n",
       "      <th></th>\n",
       "      <th>MUNICIPIO</th>\n",
       "      <th>QTD_CVLI</th>\n",
       "    </tr>\n",
       "  </thead>\n",
       "  <tbody>\n",
       "    <tr>\n",
       "      <th>0</th>\n",
       "      <td>Acarape</td>\n",
       "      <td>6</td>\n",
       "    </tr>\n",
       "    <tr>\n",
       "      <th>1</th>\n",
       "      <td>Acaraú</td>\n",
       "      <td>8</td>\n",
       "    </tr>\n",
       "    <tr>\n",
       "      <th>2</th>\n",
       "      <td>Acopiara</td>\n",
       "      <td>13</td>\n",
       "    </tr>\n",
       "    <tr>\n",
       "      <th>3</th>\n",
       "      <td>Acopiara HOMICIDIO DOLOSO</td>\n",
       "      <td>1</td>\n",
       "    </tr>\n",
       "    <tr>\n",
       "      <th>4</th>\n",
       "      <td>Aiuaba</td>\n",
       "      <td>1</td>\n",
       "    </tr>\n",
       "    <tr>\n",
       "      <th>...</th>\n",
       "      <td>...</td>\n",
       "      <td>...</td>\n",
       "    </tr>\n",
       "    <tr>\n",
       "      <th>185</th>\n",
       "      <td>Uruburetama</td>\n",
       "      <td>5</td>\n",
       "    </tr>\n",
       "    <tr>\n",
       "      <th>186</th>\n",
       "      <td>Uruoca</td>\n",
       "      <td>2</td>\n",
       "    </tr>\n",
       "    <tr>\n",
       "      <th>187</th>\n",
       "      <td>Varjota</td>\n",
       "      <td>3</td>\n",
       "    </tr>\n",
       "    <tr>\n",
       "      <th>188</th>\n",
       "      <td>Viçosa do Ceará</td>\n",
       "      <td>3</td>\n",
       "    </tr>\n",
       "    <tr>\n",
       "      <th>189</th>\n",
       "      <td>Várzea Alegre</td>\n",
       "      <td>2</td>\n",
       "    </tr>\n",
       "  </tbody>\n",
       "</table>\n",
       "<p>190 rows × 2 columns</p>\n",
       "</div>"
      ],
      "text/plain": [
       "                     MUNICIPIO  QTD_CVLI\n",
       "0                      Acarape         6\n",
       "1                       Acaraú         8\n",
       "2                     Acopiara        13\n",
       "3    Acopiara HOMICIDIO DOLOSO         1\n",
       "4                       Aiuaba         1\n",
       "..                         ...       ...\n",
       "185                Uruburetama         5\n",
       "186                     Uruoca         2\n",
       "187                    Varjota         3\n",
       "188            Viçosa do Ceará         3\n",
       "189              Várzea Alegre         2\n",
       "\n",
       "[190 rows x 2 columns]"
      ]
     },
     "execution_count": 106,
     "metadata": {},
     "output_type": "execute_result"
    }
   ],
   "source": [
    "data"
   ]
  },
  {
   "cell_type": "code",
   "execution_count": 107,
   "id": "48c0b9fb",
   "metadata": {},
   "outputs": [],
   "source": [
    "data.to_csv('arquivos/cvli_fortaleza_2019.csv', encoding='ISO-8859-1', index=False) # salva o dataframe em csv"
   ]
  },
  {
   "cell_type": "code",
   "execution_count": null,
   "id": "91b914d1",
   "metadata": {},
   "outputs": [],
   "source": []
  }
 ],
 "metadata": {
  "kernelspec": {
   "display_name": "Python 3",
   "language": "python",
   "name": "python3"
  },
  "language_info": {
   "codemirror_mode": {
    "name": "ipython",
    "version": 3
   },
   "file_extension": ".py",
   "mimetype": "text/x-python",
   "name": "python",
   "nbconvert_exporter": "python",
   "pygments_lexer": "ipython3",
   "version": "3.8.8"
  }
 },
 "nbformat": 4,
 "nbformat_minor": 5
}
